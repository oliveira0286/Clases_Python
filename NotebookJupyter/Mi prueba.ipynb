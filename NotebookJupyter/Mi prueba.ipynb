{
 "cells": [
  {
   "cell_type": "markdown",
   "id": "increased-security",
   "metadata": {},
   "source": [
    "# Mi primer Program\n",
    "\n",
    "![Imagen](http://bioinfo2.ugr.es/secuencias/wp-content/uploads/2017/11/Captura-de-pantalla-2017-11-07-a-las-20.10.21.png)"
   ]
  },
  {
   "cell_type": "code",
   "execution_count": 1,
   "id": "clean-housing",
   "metadata": {},
   "outputs": [
    {
     "name": "stdout",
     "output_type": "stream",
     "text": [
      "Hola Mundo\n"
     ]
    }
   ],
   "source": [
    "print('Hola Mundo')"
   ]
  },
  {
   "cell_type": "code",
   "execution_count": null,
   "id": "altered-community",
   "metadata": {},
   "outputs": [],
   "source": []
  }
 ],
 "metadata": {
  "kernelspec": {
   "display_name": "Python 3",
   "language": "python",
   "name": "python3"
  },
  "language_info": {
   "codemirror_mode": {
    "name": "ipython",
    "version": 3
   },
   "file_extension": ".py",
   "mimetype": "text/x-python",
   "name": "python",
   "nbconvert_exporter": "python",
   "pygments_lexer": "ipython3",
   "version": "3.9.1"
  }
 },
 "nbformat": 4,
 "nbformat_minor": 5
}
