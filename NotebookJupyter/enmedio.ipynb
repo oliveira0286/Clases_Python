{
 "cells": [
  {
   "cell_type": "code",
   "execution_count": 14,
   "id": "brazilian-apollo",
   "metadata": {},
   "outputs": [
    {
     "name": "stdout",
     "output_type": "stream",
     "text": [
      "La cadena final es: HoMundola\n"
     ]
    }
   ],
   "source": [
    "cadena1 = 'Hola'\n",
    "cadena2 = 'Mundo'\n",
    "def _medio (cadena1,cadena2):\n",
    "    posmedio = len(cadena1)//2\n",
    "    cadena3 = cadena1[:posmedio] + cadena2 + cadena1[posmedio:]\n",
    "    return cadena3\n",
    "\n",
    "cadenar= _medio(cadena1,cadena2)   \n",
    "print(f'La cadena final es: {cadenar}')"
   ]
  },
  {
   "cell_type": "code",
   "execution_count": null,
   "id": "serial-wrist",
   "metadata": {},
   "outputs": [],
   "source": []
  }
 ],
 "metadata": {
  "kernelspec": {
   "display_name": "Python 3",
   "language": "python",
   "name": "python3"
  },
  "language_info": {
   "codemirror_mode": {
    "name": "ipython",
    "version": 3
   },
   "file_extension": ".py",
   "mimetype": "text/x-python",
   "name": "python",
   "nbconvert_exporter": "python",
   "pygments_lexer": "ipython3",
   "version": "3.9.1"
  }
 },
 "nbformat": 4,
 "nbformat_minor": 5
}
