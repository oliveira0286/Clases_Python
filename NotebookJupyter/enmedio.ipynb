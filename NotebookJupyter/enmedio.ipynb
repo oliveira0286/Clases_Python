{
 "cells": [
  {
   "cell_type": "code",
   "execution_count": 14,
   "id": "nonprofit-annual",
   "metadata": {},
   "outputs": [
    {
     "name": "stdout",
     "output_type": "stream",
     "text": [
      "La cadena final es: HoMundola\n"
     ]
    }
   ],
   "source": [
    "cadena1 = 'Hola'\n",
    "cadena2 = 'Mundo'\n",
    "def _medio (cadena1,cadena2):\n",
    "    posmedio = len(cadena1)//2\n",
    "    cadena3 = cadena1[:posmedio] + cadena2 + cadena1[posmedio:]\n",
    "    return cadena3\n",
    "\n",
    "cadenar= _medio(cadena1,cadena2)   \n",
    "print(f'La cadena final es: {cadenar}')"
   ]
  },
  {
   "cell_type": "code",
   "execution_count": 16,
   "id": "technical-giant",
   "metadata": {},
   "outputs": [
    {
     "name": "stdout",
     "output_type": "stream",
     "text": [
      "La cadena final es: pAlIndROmO\n"
     ]
    }
   ],
   "source": [
    "cadena = 'PaLiNDroMo'\n",
    "def _cambiamaymin (cadena):\n",
    "    cadenar = ''\n",
    "    \n",
    "    for letra in cadena:\n",
    "        if letra.islower():\n",
    "            cadenar = cadenar + letra.upper()\n",
    "        else:\n",
    "            cadenar = cadenar + letra.lower()\n",
    "    return cadenar\n",
    "\n",
    "print (f'La cadena final es: {_cambiamaymin(cadena)}')"
   ]
  },
  {
   "cell_type": "code",
   "execution_count": 20,
   "id": "similar-arbitration",
   "metadata": {},
   "outputs": [
    {
     "data": {
      "text/plain": [
       "'1,Aguascalientes\\n2,Baja California\\n3,Baja California Sur\\n4,Campeche\\n5,Coahuila de Zaragoza\\n6,Colima\\n7,Chiapas\\n8,Chihuahua\\n9,Distrito Federal\\n10,Durango\\n11,Guanajuato\\n12,Guerrero\\n13,Hidalgo\\n14,Jalisco\\n15,M�xico\\n16,Michoac�n de Ocampo\\n17,Morelos\\n18,Nayarit\\n19,Nuevo Le�n\\n20,Oaxaca\\n21,Puebla\\n22,Quer�taro\\n23,Quintana Roo\\n24,San Luis Potos�\\n25,Sinaloa\\n26,Sonora\\n27,Tabasco\\n28,Tamaulipas\\n29,Tlaxcala\\n30,Veracruz de Ignacio de la Llave\\n31,Yucat�n\\n32,Zacatecas\\n'"
      ]
     },
     "execution_count": 20,
     "metadata": {},
     "output_type": "execute_result"
    }
   ],
   "source": [
    "archivo = open('customers.csv','r')\n",
    "archivo.read()\n"
   ]
  },
  {
   "cell_type": "code",
   "execution_count": 21,
   "id": "related-crossing",
   "metadata": {},
   "outputs": [],
   "source": [
    "archivo.close()"
   ]
  },
  {
   "cell_type": "markdown",
   "id": "sweet-recorder",
   "metadata": {},
   "source": [
    "# read"
   ]
  },
  {
   "cell_type": "code",
   "execution_count": 22,
   "id": "written-trust",
   "metadata": {},
   "outputs": [
    {
     "name": "stdout",
     "output_type": "stream",
     "text": [
      "1,Aguascalientes\n",
      "2,Baja California\n",
      "3,Baja California Sur\n",
      "4,Campeche\n",
      "5,Coahuila de Zaragoza\n",
      "6,Colima\n",
      "7,Chiapas\n",
      "8,Chihuahua\n",
      "9,Distrito Federal\n",
      "10,Durango\n",
      "11,Guanajuato\n",
      "12,Guerrero\n",
      "13,Hidalgo\n",
      "14,Jalisco\n",
      "15,M�xico\n",
      "16,Michoac�n de Ocampo\n",
      "17,Morelos\n",
      "18,Nayarit\n",
      "19,Nuevo Le�n\n",
      "20,Oaxaca\n",
      "21,Puebla\n",
      "22,Quer�taro\n",
      "23,Quintana Roo\n",
      "24,San Luis Potos�\n",
      "25,Sinaloa\n",
      "26,Sonora\n",
      "27,Tabasco\n",
      "28,Tamaulipas\n",
      "29,Tlaxcala\n",
      "30,Veracruz de Ignacio de la Llave\n",
      "31,Yucat�n\n",
      "32,Zacatecas\n",
      "\n"
     ]
    }
   ],
   "source": [
    "archivo = open('customers.csv','r')\n",
    "contenido = archivo.read()\n",
    "print(contenido)\n",
    "archivo.close()"
   ]
  },
  {
   "cell_type": "markdown",
   "id": "suitable-baseline",
   "metadata": {},
   "source": [
    "# readline"
   ]
  },
  {
   "cell_type": "code",
   "execution_count": 26,
   "id": "executive-warren",
   "metadata": {},
   "outputs": [
    {
     "name": "stdout",
     "output_type": "stream",
     "text": [
      "1,Aguascalientes\n",
      "\n",
      "2,Baja California\n",
      "\n"
     ]
    }
   ],
   "source": [
    "archivo = open('customers.csv', 'r')\n",
    "linea1= archivo.readline()\n",
    "linea2= archivo.readline()\n",
    "print(linea1)\n",
    "print(linea2)\n",
    "archivo.close()"
   ]
  },
  {
   "cell_type": "code",
   "execution_count": 27,
   "id": "encouraging-third",
   "metadata": {},
   "outputs": [
    {
     "name": "stdout",
     "output_type": "stream",
     "text": [
      "1,Aguascalientes\n",
      "2,Baja California\n"
     ]
    }
   ],
   "source": [
    "archivo = open('customers.csv', 'r')\n",
    "linea1= archivo.readline()\n",
    "linea2= archivo.readline()\n",
    "print(linea1.strip())\n",
    "print(linea2.strip())\n",
    "archivo.close()"
   ]
  },
  {
   "cell_type": "markdown",
   "id": "russian-desert",
   "metadata": {},
   "source": [
    "# readlines"
   ]
  },
  {
   "cell_type": "code",
   "execution_count": 28,
   "id": "published-bloom",
   "metadata": {},
   "outputs": [
    {
     "name": "stdout",
     "output_type": "stream",
     "text": [
      "1,Aguascalientes\n",
      "\n",
      "2,Baja California\n",
      "\n",
      "3,Baja California Sur\n",
      "\n",
      "4,Campeche\n",
      "\n",
      "5,Coahuila de Zaragoza\n",
      "\n",
      "6,Colima\n",
      "\n",
      "7,Chiapas\n",
      "\n",
      "8,Chihuahua\n",
      "\n",
      "9,Distrito Federal\n",
      "\n",
      "10,Durango\n",
      "\n",
      "11,Guanajuato\n",
      "\n",
      "12,Guerrero\n",
      "\n",
      "13,Hidalgo\n",
      "\n",
      "14,Jalisco\n",
      "\n",
      "15,M�xico\n",
      "\n",
      "16,Michoac�n de Ocampo\n",
      "\n",
      "17,Morelos\n",
      "\n",
      "18,Nayarit\n",
      "\n",
      "19,Nuevo Le�n\n",
      "\n",
      "20,Oaxaca\n",
      "\n",
      "21,Puebla\n",
      "\n",
      "22,Quer�taro\n",
      "\n",
      "23,Quintana Roo\n",
      "\n",
      "24,San Luis Potos�\n",
      "\n",
      "25,Sinaloa\n",
      "\n",
      "26,Sonora\n",
      "\n",
      "27,Tabasco\n",
      "\n",
      "28,Tamaulipas\n",
      "\n",
      "29,Tlaxcala\n",
      "\n",
      "30,Veracruz de Ignacio de la Llave\n",
      "\n",
      "31,Yucat�n\n",
      "\n",
      "32,Zacatecas\n",
      "\n"
     ]
    }
   ],
   "source": [
    "archivo = open('customers.csv', 'r')\n",
    "for linea in archivo.readlines():\n",
    "    print(linea)\n",
    "archivo.close()"
   ]
  },
  {
   "cell_type": "code",
   "execution_count": 33,
   "id": "fossil-irish",
   "metadata": {},
   "outputs": [
    {
     "name": "stdout",
     "output_type": "stream",
     "text": [
      "1,Agua\n",
      "2,Baja\n",
      "3,Baja\n",
      "4,Camp\n",
      "5,Coah\n",
      "6,Coli\n",
      "7,Chia\n",
      "8,Chih\n",
      "9,Dist\n",
      "10,Dur\n",
      "11,Gua\n",
      "12,Gue\n",
      "13,Hid\n",
      "14,Jal\n",
      "15,M�x\n",
      "16,Mic\n",
      "17,Mor\n",
      "18,Nay\n",
      "19,Nue\n",
      "20,Oax\n",
      "21,Pue\n",
      "22,Que\n",
      "23,Qui\n",
      "24,San\n",
      "25,Sin\n",
      "26,Son\n",
      "27,Tab\n",
      "28,Tam\n",
      "29,Tla\n",
      "30,Ver\n",
      "31,Yuc\n",
      "32,Zac\n"
     ]
    }
   ],
   "source": [
    "archivo = open('customers.csv', 'r')\n",
    "for linea in archivo.readlines():\n",
    "    print(linea.strip())\n",
    "archivo.close()"
   ]
  },
  {
   "cell_type": "markdown",
   "id": "macro-incidence",
   "metadata": {},
   "source": [
    "# tell"
   ]
  },
  {
   "cell_type": "code",
   "execution_count": 37,
   "id": "attempted-dominican",
   "metadata": {},
   "outputs": [
    {
     "name": "stdout",
     "output_type": "stream",
     "text": [
      "0\n",
      "18\n"
     ]
    }
   ],
   "source": [
    "archivo = open('customers.csv', 'r')\n",
    "print (archivo.tell())\n",
    "linea1= archivo.readline()\n",
    "print(archivo.tell())\n",
    "archivo.close()"
   ]
  },
  {
   "cell_type": "markdown",
   "id": "protective-blanket",
   "metadata": {},
   "source": [
    "# seek"
   ]
  },
  {
   "cell_type": "code",
   "execution_count": 38,
   "id": "monthly-administrator",
   "metadata": {},
   "outputs": [
    {
     "name": "stdout",
     "output_type": "stream",
     "text": [
      "498\n",
      "0\n"
     ]
    }
   ],
   "source": [
    "archivo = open('customers.csv', 'r')\n",
    "archivo.read()\n",
    "print (archivo.tell())\n",
    "archivo.seek(0)\n",
    "print(archivo.tell())\n",
    "archivo.close()"
   ]
  },
  {
   "cell_type": "code",
   "execution_count": 39,
   "id": "incorrect-tomato",
   "metadata": {},
   "outputs": [
    {
     "data": {
      "text/plain": [
       "'1,Aguascalientes\\n2,Baja California\\n3,Baja California Sur\\n4,Campeche\\n5,Coahuila de Zaragoza\\n6,Colima\\n7,Chiapas\\n8,Chihuahua\\n9,Distrito Federal\\n10,Durango\\n11,Guanajuato\\n12,Guerrero\\n13,Hidalgo\\n14,Jalisco\\n15,M�xico\\n16,Michoac�n de Ocampo\\n17,Morelos\\n18,Nayarit\\n19,Nuevo Le�n\\n20,Oaxaca\\n21,Puebla\\n22,Quer�taro\\n23,Quintana Roo\\n24,San Luis Potos�\\n25,Sinaloa\\n26,Sonora\\n27,Tabasco\\n28,Tamaulipas\\n29,Tlaxcala\\n30,Veracruz de Ignacio de la Llave\\n31,Yucat�n\\n32,Zacatecas\\n'"
      ]
     },
     "execution_count": 39,
     "metadata": {},
     "output_type": "execute_result"
    }
   ],
   "source": [
    "archivo = open('customers.csv', 'r')\n",
    "archivo.read()"
   ]
  },
  {
   "cell_type": "code",
   "execution_count": 42,
   "id": "plastic-arlington",
   "metadata": {},
   "outputs": [
    {
     "data": {
      "text/plain": [
       "'1,Aguascalientes\\n2,Baja California\\n3,Baja California Sur\\n4,Campeche\\n5,Coahuila de Zaragoza\\n6,Colima\\n7,Chiapas\\n8,Chihuahua\\n9,Distrito Federal\\n10,Durango\\n11,Guanajuato\\n12,Guerrero\\n13,Hidalgo\\n14,Jalisco\\n15,M�xico\\n16,Michoac�n de Ocampo\\n17,Morelos\\n18,Nayarit\\n19,Nuevo Le�n\\n20,Oaxaca\\n21,Puebla\\n22,Quer�taro\\n23,Quintana Roo\\n24,San Luis Potos�\\n25,Sinaloa\\n26,Sonora\\n27,Tabasco\\n28,Tamaulipas\\n29,Tlaxcala\\n30,Veracruz de Ignacio de la Llave\\n31,Yucat�n\\n32,Zacatecas\\n'"
      ]
     },
     "execution_count": 42,
     "metadata": {},
     "output_type": "execute_result"
    }
   ],
   "source": [
    "archivo.read()"
   ]
  },
  {
   "cell_type": "code",
   "execution_count": 41,
   "id": "cathedral-indonesia",
   "metadata": {},
   "outputs": [
    {
     "data": {
      "text/plain": [
       "0"
      ]
     },
     "execution_count": 41,
     "metadata": {},
     "output_type": "execute_result"
    }
   ],
   "source": [
    "archivo.seek(0)"
   ]
  },
  {
   "cell_type": "code",
   "execution_count": 43,
   "id": "narrative-madison",
   "metadata": {},
   "outputs": [],
   "source": [
    "archivo.close()"
   ]
  },
  {
   "cell_type": "markdown",
   "id": "favorite-stick",
   "metadata": {},
   "source": [
    "# write"
   ]
  },
  {
   "cell_type": "code",
   "execution_count": 44,
   "id": "divided-thesis",
   "metadata": {},
   "outputs": [],
   "source": [
    "archivo = open('prueba_archivo', 'w+')\n",
    "archivo.write('Hola Bienvenidos')\n",
    "archivo.close ()"
   ]
  },
  {
   "cell_type": "markdown",
   "id": "offshore-senator",
   "metadata": {},
   "source": [
    "# flush"
   ]
  },
  {
   "cell_type": "code",
   "execution_count": 51,
   "id": "proof-crowd",
   "metadata": {},
   "outputs": [],
   "source": [
    "archivo = open('prueba_archivo', 'a+')\n",
    "archivo.write('a todos')\n",
    "archivo.close ()"
   ]
  },
  {
   "cell_type": "code",
   "execution_count": 53,
   "id": "political-backing",
   "metadata": {},
   "outputs": [],
   "source": [
    "# Con salto de Linea\n",
    "archivo = open('prueba_archivo', 'a+')\n",
    "archivo.write('a todos\\n')\n",
    "archivo.flush()\n",
    "archivo.close ()"
   ]
  },
  {
   "cell_type": "markdown",
   "id": "close-novel",
   "metadata": {},
   "source": [
    "# with "
   ]
  },
  {
   "cell_type": "code",
   "execution_count": 2,
   "id": "loose-treatment",
   "metadata": {},
   "outputs": [
    {
     "name": "stdout",
     "output_type": "stream",
     "text": [
      "1,Aguascalientes\n",
      "2,Baja California\n",
      "3,Baja California Sur\n",
      "4,Campeche\n",
      "5,Coahuila de Zaragoza\n",
      "6,Colima\n",
      "7,Chiapas\n",
      "8,Chihuahua\n",
      "9,Distrito Federal\n",
      "10,Durango\n",
      "11,Guanajuato\n",
      "12,Guerrero\n",
      "13,Hidalgo\n",
      "14,Jalisco\n",
      "15,M�xico\n",
      "16,Michoac�n de Ocampo\n",
      "17,Morelos\n",
      "18,Nayarit\n",
      "19,Nuevo Le�n\n",
      "20,Oaxaca\n",
      "21,Puebla\n",
      "22,Quer�taro\n",
      "23,Quintana Roo\n",
      "24,San Luis Potos�\n",
      "25,Sinaloa\n",
      "26,Sonora\n",
      "27,Tabasco\n",
      "28,Tamaulipas\n",
      "29,Tlaxcala\n",
      "30,Veracruz de Ignacio de la Llave\n",
      "31,Yucat�n\n",
      "32,Zacatecas\n",
      "\n"
     ]
    }
   ],
   "source": [
    "with open('customers.csv', 'r') as arc:\n",
    "    print (arc.read())\n",
    "    arc.close()"
   ]
  },
  {
   "cell_type": "code",
   "execution_count": 3,
   "id": "olympic-majority",
   "metadata": {},
   "outputs": [
    {
     "name": "stdout",
     "output_type": "stream",
     "text": [
      "<built-in method read of _io.TextIOWrapper object at 0x000001774B6271E0>\n"
     ]
    }
   ],
   "source": [
    "with open('customer.csv','r') as arch:\n",
    "    print(arch.read)\n",
    "    arch.close()"
   ]
  },
  {
   "cell_type": "code",
   "execution_count": 5,
   "id": "alpha-conditioning",
   "metadata": {},
   "outputs": [
    {
     "name": "stdout",
     "output_type": "stream",
     "text": [
      "<built-in method read of _io.TextIOWrapper object at 0x000001774B6271E0>\n"
     ]
    }
   ],
   "source": [
    "with open('customer.csv','r',encoding='utf-8') as arch:\n",
    "    print(arch.read)\n",
    "    arch.close()"
   ]
  },
  {
   "cell_type": "code",
   "execution_count": null,
   "id": "searching-gnome",
   "metadata": {},
   "outputs": [],
   "source": []
  }
 ],
 "metadata": {
  "kernelspec": {
   "display_name": "Python 3",
   "language": "python",
   "name": "python3"
  },
  "language_info": {
   "codemirror_mode": {
    "name": "ipython",
    "version": 3
   },
   "file_extension": ".py",
   "mimetype": "text/x-python",
   "name": "python",
   "nbconvert_exporter": "python",
   "pygments_lexer": "ipython3",
   "version": "3.9.1"
  }
 },
 "nbformat": 4,
 "nbformat_minor": 5
}
